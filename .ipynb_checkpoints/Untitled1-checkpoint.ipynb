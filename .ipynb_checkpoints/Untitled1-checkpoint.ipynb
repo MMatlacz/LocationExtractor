{
 "cells": [
  {
   "cell_type": "code",
   "execution_count": 1,
   "metadata": {},
   "outputs": [],
   "source": [
    "import pandas as pd"
   ]
  },
  {
   "cell_type": "code",
   "execution_count": 2,
   "metadata": {},
   "outputs": [],
   "source": [
    "df = pd.read_csv('./location_extractor/data/GeoLite2-City-CSV_20200303/GeoLite2-City-Locations-en-processed.csv')"
   ]
  },
  {
   "cell_type": "code",
   "execution_count": 46,
   "metadata": {},
   "outputs": [
    {
     "data": {
      "text/html": [
       "<div>\n",
       "<style scoped>\n",
       "    .dataframe tbody tr th:only-of-type {\n",
       "        vertical-align: middle;\n",
       "    }\n",
       "\n",
       "    .dataframe tbody tr th {\n",
       "        vertical-align: top;\n",
       "    }\n",
       "\n",
       "    .dataframe thead th {\n",
       "        text-align: right;\n",
       "    }\n",
       "</style>\n",
       "<table border=\"1\" class=\"dataframe\">\n",
       "  <thead>\n",
       "    <tr style=\"text-align: right;\">\n",
       "      <th></th>\n",
       "      <th>locale_code</th>\n",
       "      <th>continent_code</th>\n",
       "      <th>continent_name</th>\n",
       "      <th>country_iso_code</th>\n",
       "      <th>country_name</th>\n",
       "      <th>subdivision_name</th>\n",
       "      <th>city_name</th>\n",
       "      <th>is_in_european_union</th>\n",
       "    </tr>\n",
       "  </thead>\n",
       "  <tbody>\n",
       "    <tr>\n",
       "      <th>256</th>\n",
       "      <td>en</td>\n",
       "      <td>AS</td>\n",
       "      <td>Asia</td>\n",
       "      <td>SY</td>\n",
       "      <td>Syria</td>\n",
       "      <td>Idlib Governorate</td>\n",
       "      <td>Idlib</td>\n",
       "      <td>False</td>\n",
       "    </tr>\n",
       "    <tr>\n",
       "      <th>257</th>\n",
       "      <td>en</td>\n",
       "      <td>AS</td>\n",
       "      <td>Asia</td>\n",
       "      <td>SY</td>\n",
       "      <td>Syria</td>\n",
       "      <td>Aleppo Governorate</td>\n",
       "      <td>Aleppo</td>\n",
       "      <td>False</td>\n",
       "    </tr>\n",
       "    <tr>\n",
       "      <th>258</th>\n",
       "      <td>en</td>\n",
       "      <td>AS</td>\n",
       "      <td>Asia</td>\n",
       "      <td>SY</td>\n",
       "      <td>Syria</td>\n",
       "      <td>Damascus Governorate</td>\n",
       "      <td>Damascus</td>\n",
       "      <td>False</td>\n",
       "    </tr>\n",
       "    <tr>\n",
       "      <th>259</th>\n",
       "      <td>en</td>\n",
       "      <td>AS</td>\n",
       "      <td>Asia</td>\n",
       "      <td>SY</td>\n",
       "      <td>Syria</td>\n",
       "      <td>Latakia Governorate</td>\n",
       "      <td>Latakia</td>\n",
       "      <td>False</td>\n",
       "    </tr>\n",
       "    <tr>\n",
       "      <th>260</th>\n",
       "      <td>en</td>\n",
       "      <td>AS</td>\n",
       "      <td>Asia</td>\n",
       "      <td>SY</td>\n",
       "      <td>Syria</td>\n",
       "      <td>As-Suwayda Governorate</td>\n",
       "      <td>Ad Darah</td>\n",
       "      <td>False</td>\n",
       "    </tr>\n",
       "  </tbody>\n",
       "</table>\n",
       "</div>"
      ],
      "text/plain": [
       "    locale_code continent_code continent_name country_iso_code country_name  \\\n",
       "256          en             AS           Asia               SY        Syria   \n",
       "257          en             AS           Asia               SY        Syria   \n",
       "258          en             AS           Asia               SY        Syria   \n",
       "259          en             AS           Asia               SY        Syria   \n",
       "260          en             AS           Asia               SY        Syria   \n",
       "\n",
       "           subdivision_name city_name  is_in_european_union  \n",
       "256       Idlib Governorate     Idlib                 False  \n",
       "257      Aleppo Governorate    Aleppo                 False  \n",
       "258    Damascus Governorate  Damascus                 False  \n",
       "259     Latakia Governorate   Latakia                 False  \n",
       "260  As-Suwayda Governorate  Ad Darah                 False  "
      ]
     },
     "execution_count": 46,
     "metadata": {},
     "output_type": "execute_result"
    }
   ],
   "source": [
    "df[df.country_name.str.lower().fillna(\"\").str.contains('syr')]"
   ]
  },
  {
   "cell_type": "code",
   "execution_count": 44,
   "metadata": {},
   "outputs": [
    {
     "data": {
      "text/plain": [
       "array(['Europe', 'Africa', 'Asia', 'Oceania', 'North America',\n",
       "       'South America'], dtype=object)"
      ]
     },
     "execution_count": 44,
     "metadata": {},
     "output_type": "execute_result"
    }
   ],
   "source": [
    "df.continent_name.drop_duplicates().values"
   ]
  },
  {
   "cell_type": "code",
   "execution_count": null,
   "metadata": {},
   "outputs": [],
   "source": [
    "df.continent_name.drop_duplicates().values"
   ]
  }
 ],
 "metadata": {
  "kernelspec": {
   "display_name": "Python 3",
   "language": "python",
   "name": "python3"
  },
  "language_info": {
   "codemirror_mode": {
    "name": "ipython",
    "version": 3
   },
   "file_extension": ".py",
   "mimetype": "text/x-python",
   "name": "python",
   "nbconvert_exporter": "python",
   "pygments_lexer": "ipython3",
   "version": "3.7.6"
  }
 },
 "nbformat": 4,
 "nbformat_minor": 4
}
