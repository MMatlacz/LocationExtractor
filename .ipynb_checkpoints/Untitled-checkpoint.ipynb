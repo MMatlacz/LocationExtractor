{
 "cells": [
  {
   "cell_type": "code",
   "execution_count": 1,
   "metadata": {},
   "outputs": [],
   "source": [
    "%load_ext autoreload"
   ]
  },
  {
   "cell_type": "code",
   "execution_count": 2,
   "metadata": {},
   "outputs": [],
   "source": [
    "%autoreload 2"
   ]
  },
  {
   "cell_type": "code",
   "execution_count": null,
   "metadata": {},
   "outputs": [],
   "source": [
    "import pandas as pd"
   ]
  },
  {
   "cell_type": "code",
   "execution_count": null,
   "metadata": {},
   "outputs": [],
   "source": [
    "from unidecode import unidecode, unidecode_expect_nonascii"
   ]
  },
  {
   "cell_type": "code",
   "execution_count": null,
   "metadata": {},
   "outputs": [],
   "source": [
    "city_locations = pd.read_csv(\n",
    "    './location_extractor/data/GeoLite2-City-CSV_20200303/GeoLite2-City-Locations-en.csv',\n",
    "    dtype={\n",
    "        'geoname_id': int,\n",
    "        'continent_code': 'string',\n",
    "        'continent_name': 'string',\n",
    "        'country_iso_code': 'string',\n",
    "        'country_name': 'string',\n",
    "        'subdivision_iso_code': 'string',\n",
    "        'subdivision_name': 'string',\n",
    "        'city_name': 'string',\n",
    "        'metro_code': 'string',\n",
    "        'time_zone': 'string'\n",
    "    }\n",
    ")"
   ]
  },
  {
   "cell_type": "code",
   "execution_count": null,
   "metadata": {},
   "outputs": [],
   "source": [
    "city_locations.query('city_name == \"Ngong\"')"
   ]
  },
  {
   "cell_type": "code",
   "execution_count": null,
   "metadata": {},
   "outputs": [],
   "source": [
    "subdivision1 = city_locations.copy() \\\n",
    "    .drop(columns=['subdivision_2_name']) \\\n",
    "    .rename(columns={'subdivision_1_name': 'subdivision_name'})\\\n",
    "    .dropna(subset=['subdivision_name'])\n",
    "subdivision2 = city_locations.copy() \\\n",
    "    .drop(columns=['subdivision_1_name']) \\\n",
    "    .rename(columns={'subdivision_2_name': 'subdivision_name'})\\\n",
    "    .dropna(subset=['subdivision_name'])\n",
    "\n",
    "city_locations = subdivision1.append(subdivision2)"
   ]
  },
  {
   "cell_type": "code",
   "execution_count": null,
   "metadata": {},
   "outputs": [],
   "source": [
    "city_locations.drop(columns=[\n",
    "    'geoname_id',\n",
    "    'subdivision_1_iso_code',\n",
    "    'subdivision_2_iso_code',\n",
    "    'metro_code',\n",
    "    'time_zone'],\n",
    "    inplace=True\n",
    ")"
   ]
  },
  {
   "cell_type": "code",
   "execution_count": null,
   "metadata": {},
   "outputs": [],
   "source": [
    "city_locations.drop_duplicates(inplace=True)"
   ]
  },
  {
   "cell_type": "code",
   "execution_count": null,
   "metadata": {},
   "outputs": [],
   "source": [
    "city_locations.query('city_name == \"Warsaw\"')"
   ]
  },
  {
   "cell_type": "code",
   "execution_count": null,
   "metadata": {},
   "outputs": [],
   "source": [
    "city_locations.fillna(\n",
    "    value={\n",
    "        'geoname_id': -1,\n",
    "        'continent_code': '',\n",
    "        'continent_name': '',\n",
    "        'country_iso_code': '',\n",
    "        'country_name': '',\n",
    "        'subdivision_iso_code': '',\n",
    "        'subdivision_name': '',\n",
    "        'city_name': '',\n",
    "        'metro_code': '',\n",
    "        'time_zone': ''\n",
    "    },\n",
    "    inplace=True\n",
    ")"
   ]
  },
  {
   "cell_type": "code",
   "execution_count": null,
   "metadata": {},
   "outputs": [],
   "source": [
    "city_locations.dtypes"
   ]
  },
  {
   "cell_type": "code",
   "execution_count": null,
   "metadata": {},
   "outputs": [],
   "source": [
    "city_locations[\"country_name\"] = city_locations[\"country_name\"].map(unidecode_expect_nonascii)\n",
    "city_locations[\"subdivision_name\"] = city_locations[\"subdivision_name\"].map(unidecode_expect_nonascii)\n",
    "city_locations[\"city_name\"] = city_locations[\"city_name\"].map(unidecode_expect_nonascii)"
   ]
  },
  {
   "cell_type": "code",
   "execution_count": null,
   "metadata": {},
   "outputs": [],
   "source": [
    "city_locations = city_locations.astype(\n",
    "    {\n",
    "        'geoname_id': int,\n",
    "        'continent_code': 'string',\n",
    "        'continent_name': 'string',\n",
    "        'country_iso_code': 'string',\n",
    "        'country_name': 'string',\n",
    "        'subdivision_iso_code': 'string',\n",
    "        'subdivision_name': 'string',\n",
    "        'city_name': 'string',\n",
    "        'metro_code': 'string',\n",
    "        'time_zone': 'string'\n",
    "    },\n",
    "    copy=False\n",
    ")"
   ]
  },
  {
   "cell_type": "code",
   "execution_count": null,
   "metadata": {},
   "outputs": [],
   "source": [
    "city_locations"
   ]
  },
  {
   "cell_type": "code",
   "execution_count": null,
   "metadata": {},
   "outputs": [],
   "source": [
    "city_locations.query('city_name == \"Gdansk\"')"
   ]
  },
  {
   "cell_type": "code",
   "execution_count": null,
   "metadata": {},
   "outputs": [],
   "source": [
    "city_locations.iloc[19995].city_name"
   ]
  },
  {
   "cell_type": "code",
   "execution_count": null,
   "metadata": {},
   "outputs": [],
   "source": [
    "cities = pd.read_csv('./location_extractor/data/GeoLite2-City-CSV_20200303/GeoLite2-City-Locations-en.csv')"
   ]
  },
  {
   "cell_type": "code",
   "execution_count": null,
   "metadata": {},
   "outputs": [],
   "source": [
    "cities.query('country_iso_code == \"PL\"').shape"
   ]
  },
  {
   "cell_type": "code",
   "execution_count": null,
   "metadata": {},
   "outputs": [],
   "source": [
    "cities"
   ]
  },
  {
   "cell_type": "code",
   "execution_count": null,
   "metadata": {},
   "outputs": [],
   "source": [
    "sorted([('Berlin', 'Schleswig-Holstein', 'Germany'),\n",
    " ('Berlin', 'Land Berlin', 'Germany'),\n",
    " ('Berlin', 'Georgia', 'United States'),\n",
    " ('Berlin', 'Maryland', 'United States'),\n",
    " ('Berlin', 'New Jersey', 'United States'),\n",
    " ('Berlin', 'Pennsylvania', 'United States'),\n",
    " ('Berlin', 'Massachusetts', 'United States'),\n",
    " ('Berlin', 'New Hampshire', 'United States'),\n",
    " ('Berlin', 'New York', 'United States'),\n",
    " ('Berlin', 'Wisconsin', 'United States'),\n",
    " ('Berlin', 'Connecticut', 'United States')], key=lambda x: (x[2], x[1]))"
   ]
  },
  {
   "cell_type": "code",
   "execution_count": null,
   "metadata": {},
   "outputs": [],
   "source": []
  }
 ],
 "metadata": {
  "kernelspec": {
   "display_name": "Python 3",
   "language": "python",
   "name": "python3"
  },
  "language_info": {
   "codemirror_mode": {
    "name": "ipython",
    "version": 3
   },
   "file_extension": ".py",
   "mimetype": "text/x-python",
   "name": "python",
   "nbconvert_exporter": "python",
   "pygments_lexer": "ipython3",
   "version": "3.7.6"
  }
 },
 "nbformat": 4,
 "nbformat_minor": 4
}
